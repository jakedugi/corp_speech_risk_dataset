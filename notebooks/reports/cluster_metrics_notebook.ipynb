{
 "cells": [
  {
   "cell_type": "markdown",
   "id": "2e2fa3d0",
   "metadata": {},
   "source": [
    "# Standalone Clustering Metrics\n",
    "\n",
    "This notebook loads precomputed cluster coordinates and labels, then computes a suite of external and internal clustering metrics for exploratory analysis and debugging."
   ]
  },
  {
   "cell_type": "code",
   "execution_count": 18,
   "id": "be1c9fe9",
   "metadata": {},
   "outputs": [],
   "source": [
    "### Parameters\n",
    "vec_path = '/Users/jakedugan/Projects/corporate_media_risk/corp_speech_risk_dataset/data/clustering/concat_vectors.npy'  # Path to concatenated vectors\n",
    "meta_path = '/Users/jakedugan/Projects/corporate_media_risk/corp_speech_risk_dataset/data/clustering/metadata.json'     # Path to metadata\n",
    "supervision = 'categorical'                     # 'categorical' or 'continuous'\n",
    "min_cluster_size = 50"
   ]
  },
  {
   "cell_type": "code",
   "execution_count": 19,
   "id": "33469202",
   "metadata": {},
   "outputs": [
    {
     "name": "stdout",
     "output_type": "stream",
     "text": [
      "Faiss build time: 0.1s\n"
     ]
    },
    {
     "name": "stderr",
     "output_type": "stream",
     "text": [
      "/Users/jakedugan/Projects/corporate_media_risk/corp_speech_risk_dataset/.venv/lib/python3.11/site-packages/sklearn/utils/deprecation.py:132: FutureWarning: 'force_all_finite' was renamed to 'ensure_all_finite' in 1.6 and will be removed in 1.8.\n",
      "  warnings.warn(\n",
      "/Users/jakedugan/Projects/corporate_media_risk/corp_speech_risk_dataset/.venv/lib/python3.11/site-packages/sklearn/utils/deprecation.py:132: FutureWarning: 'force_all_finite' was renamed to 'ensure_all_finite' in 1.6 and will be removed in 1.8.\n",
      "  warnings.warn(\n"
     ]
    },
    {
     "name": "stdout",
     "output_type": "stream",
     "text": [
      "HDBSCAN clustering time: 35.5s\n"
     ]
    },
    {
     "name": "stderr",
     "output_type": "stream",
     "text": [
      "/Users/jakedugan/Projects/corporate_media_risk/corp_speech_risk_dataset/.venv/lib/python3.11/site-packages/umap/umap_.py:1952: UserWarning: n_jobs value 1 overridden to 1 by setting random_state. Use no seed for parallelism.\n",
      "  warn(\n"
     ]
    },
    {
     "name": "stdout",
     "output_type": "stream",
     "text": [
      "UMAP reduction time for visualization: 40.5s\n"
     ]
    }
   ],
   "source": [
    "from corp_speech_risk_dataset.clustering.pipeline import ClusterPipeline\n",
    "import numpy as np\n",
    "\n",
    "# Build pipeline and compute clusters & embeddings\n",
    "pipe = ClusterPipeline(\n",
    "    vec_path=vec_path,\n",
    "    meta_path=meta_path,\n",
    "    use_gpu=False,\n",
    "    min_cluster_size=min_cluster_size,\n",
    "    supervision_mode=supervision\n",
    ")\n",
    "pipe.build()\n",
    "labels = pipe.cluster()\n",
    "coords = pipe.reduce()\n",
    "true_labels = pipe.buckets"
   ]
  },
  {
   "cell_type": "code",
   "execution_count": 20,
   "id": "0e517daf",
   "metadata": {},
   "outputs": [],
   "source": [
    "import pandas as pd\n",
    "import pandas as pd\n",
    "import numpy as np\n",
    "from sklearn.metrics import (\n",
    "    silhouette_score, adjusted_rand_score,\n",
    "    adjusted_mutual_info_score, normalized_mutual_info_score,\n",
    "    calinski_harabasz_score, davies_bouldin_score,\n",
    "    fowlkes_mallows_score\n",
    ")\n",
    "from scipy.spatial.distance import pdist, squareform\n",
    "from sklearn.manifold import trustworthiness\n",
    "from sklearn.metrics import (\n",
    "    silhouette_score, adjusted_rand_score,\n",
    "    adjusted_mutual_info_score, normalized_mutual_info_score,\n",
    "    calinski_harabasz_score, davies_bouldin_score,\n",
    "    fowlkes_mallows_score\n",
    ")\n",
    "from sklearn.neighbors import NearestNeighbors\n",
    "from scipy.spatial.distance import pdist, squareform\n",
    "import numpy as np\n",
    "\n",
    "# Purity\n",
    "def purity_score(true, pred):\n",
    "    contingency = pd.crosstab(pd.Series(true, name='true'), pd.Series(pred, name='pred'))\n",
    "    return np.sum(np.max(contingency.values, axis=1)) / np.sum(contingency.values)\n",
    "\n",
    "# Dunn Index\n",
    "def dunn_index(X, labels):\n",
    "    distances = squareform(pdist(X))\n",
    "    delta = np.min([distances[i][j]\n",
    "                    for i in range(len(X)) for j in range(len(X))\n",
    "                    if labels[i] != labels[j]])\n",
    "    big_delta = np.max([distances[i][j]\n",
    "                        for i in range(len(X)) for j in range(len(X))\n",
    "                        if labels[i] == labels[j]])\n",
    "    return delta / big_delta\n",
    "\n",
    "# Trustworthiness & Continuity\n",
    "from sklearn.manifold import trustworthiness, _utils\n"
   ]
  },
  {
   "cell_type": "code",
   "execution_count": 21,
   "id": "47ddd6e8",
   "metadata": {},
   "outputs": [
    {
     "data": {
      "text/html": [
       "<div>\n",
       "<style scoped>\n",
       "    .dataframe tbody tr th:only-of-type {\n",
       "        vertical-align: middle;\n",
       "    }\n",
       "\n",
       "    .dataframe tbody tr th {\n",
       "        vertical-align: top;\n",
       "    }\n",
       "\n",
       "    .dataframe thead th {\n",
       "        text-align: right;\n",
       "    }\n",
       "</style>\n",
       "<table border=\"1\" class=\"dataframe\">\n",
       "  <thead>\n",
       "    <tr style=\"text-align: right;\">\n",
       "      <th></th>\n",
       "      <th>Value</th>\n",
       "    </tr>\n",
       "  </thead>\n",
       "  <tbody>\n",
       "    <tr>\n",
       "      <th>Silhouette</th>\n",
       "      <td>0.213454</td>\n",
       "    </tr>\n",
       "    <tr>\n",
       "      <th>ARI</th>\n",
       "      <td>0.007350</td>\n",
       "    </tr>\n",
       "    <tr>\n",
       "      <th>Purity</th>\n",
       "      <td>0.550201</td>\n",
       "    </tr>\n",
       "    <tr>\n",
       "      <th>AMI</th>\n",
       "      <td>0.010333</td>\n",
       "    </tr>\n",
       "    <tr>\n",
       "      <th>NMI</th>\n",
       "      <td>0.010504</td>\n",
       "    </tr>\n",
       "    <tr>\n",
       "      <th>Calinski-Harabasz</th>\n",
       "      <td>4030.075250</td>\n",
       "    </tr>\n",
       "    <tr>\n",
       "      <th>Davies-Bouldin</th>\n",
       "      <td>3.472446</td>\n",
       "    </tr>\n",
       "    <tr>\n",
       "      <th>Fowlkes-Mallows</th>\n",
       "      <td>0.349469</td>\n",
       "    </tr>\n",
       "    <tr>\n",
       "      <th>Dunn</th>\n",
       "      <td>0.000003</td>\n",
       "    </tr>\n",
       "  </tbody>\n",
       "</table>\n",
       "</div>"
      ],
      "text/plain": [
       "                         Value\n",
       "Silhouette            0.213454\n",
       "ARI                   0.007350\n",
       "Purity                0.550201\n",
       "AMI                   0.010333\n",
       "NMI                   0.010504\n",
       "Calinski-Harabasz  4030.075250\n",
       "Davies-Bouldin        3.472446\n",
       "Fowlkes-Mallows       0.349469\n",
       "Dunn                  0.000003"
      ]
     },
     "execution_count": 21,
     "metadata": {},
     "output_type": "execute_result"
    }
   ],
   "source": [
    "# Compute metrics\n",
    "metrics = {\n",
    "    'Silhouette': silhouette_score(coords, true_labels),\n",
    "    'ARI': adjusted_rand_score(true_labels, labels),\n",
    "    'Purity': purity_score(true_labels, labels),\n",
    "    'AMI': adjusted_mutual_info_score(true_labels, labels),\n",
    "    'NMI': normalized_mutual_info_score(true_labels, labels),\n",
    "    'Calinski-Harabasz': calinski_harabasz_score(coords, labels),\n",
    "    'Davies-Bouldin': davies_bouldin_score(coords, labels),\n",
    "    'Fowlkes-Mallows': fowlkes_mallows_score(true_labels, labels),\n",
    "    'Dunn': dunn_index(coords, labels),\n",
    "    # 'Trustworthiness': trustworthiness(true_labels, coords),\n",
    "}\n",
    "\n",
    "# Display results\n",
    "pd.DataFrame.from_dict(metrics, orient='index', columns=['Value'])"
   ]
  }
 ],
 "metadata": {
  "kernelspec": {
   "display_name": ".venv",
   "language": "python",
   "name": "python3"
  },
  "language_info": {
   "codemirror_mode": {
    "name": "ipython",
    "version": 3
   },
   "file_extension": ".py",
   "mimetype": "text/x-python",
   "name": "python",
   "nbconvert_exporter": "python",
   "pygments_lexer": "ipython3",
   "version": "3.11.13"
  }
 },
 "nbformat": 4,
 "nbformat_minor": 5
}
