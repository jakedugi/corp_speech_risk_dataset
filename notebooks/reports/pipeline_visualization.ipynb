{
 "cells": [
  {
   "cell_type": "markdown",
   "id": "84f86306",
   "metadata": {},
   "source": [
    "# Quote Extraction Pipeline Visualization\n",
    "\n",
    "This notebook loads the JSONL outputs from each stage of the quote extraction pipeline, combines them into a single DataFrame, and provides visualizations to analyze the process."
   ]
  },
  {
   "cell_type": "code",
   "execution_count": 1,
   "id": "f03205ea",
   "metadata": {},
   "outputs": [
    {
     "name": "stdout",
     "output_type": "stream",
     "text": [
      "pandas version: 2.3.0\n",
      "matplotlib version: 3.10.3\n"
     ]
    }
   ],
   "source": [
    "import os\n",
    "import sys\n",
    "import pandas as pd\n",
    "import matplotlib\n",
    "import matplotlib.pyplot as plt\n",
    "import seaborn as sns\n",
    "\n",
    "# Add project root to sys.path to allow for local module imports\n",
    "project_root = os.path.abspath(os.path.join(os.getcwd(), '..', '..'))\n",
    "if project_root not in sys.path:\n",
    "    sys.path.insert(0, project_root)\n",
    "\n",
    "print(f\"pandas version: {pd.__version__}\")\n",
    "print(f\"matplotlib version: {matplotlib.__version__}\")\n",
    "\n",
    "sns.set_theme(style=\"whitegrid\")"
   ]
  },
  {
   "cell_type": "markdown",
   "id": "e89fdcf5",
   "metadata": {},
   "source": [
    "## 1. Configuration & Parameters\n",
    "\n",
    "Define paths to the data files and set visualization parameters."
   ]
  },
  {
   "cell_type": "code",
   "execution_count": 2,
   "id": "4b0c36eb",
   "metadata": {},
   "outputs": [],
   "source": [
    "from pathlib import Path\n",
    "\n",
    "# The `run_extraction.py` script saves the data in a `data` directory at the project root.\n",
    "DATA_DIR = Path(\"../../data\")\n",
    "FILES = {\n",
    "    0: DATA_DIR / \"stage0_raw.jsonl\",\n",
    "    1: DATA_DIR / \"stage1_candidates.jsonl\",\n",
    "    2: DATA_DIR / \"stage2_attributed.jsonl\",\n",
    "    3: DATA_DIR / \"stage3_final.jsonl\"\n",
    "}\n",
    "\n",
    "# Visualization settings\n",
    "SCORE_NULL_PLACEHOLDER = -1.0"
   ]
  },
  {
   "cell_type": "markdown",
   "id": "fc91acc9",
   "metadata": {},
   "source": [
    "## 2. Utility Functions\n",
    "\n",
    "Helper functions to load and prepare the data for analysis."
   ]
  },
  {
   "cell_type": "code",
   "execution_count": 3,
   "id": "5d2bac72",
   "metadata": {},
   "outputs": [],
   "source": [
    "def load_stage(stage: int) -> pd.DataFrame:\n",
    "    \"\"\"Loads a single stage's JSONL file into a DataFrame.\"\"\"\n",
    "    file_path = FILES[stage]\n",
    "    if not file_path.exists():\n",
    "        print(f\"Warning: File not found for stage {stage} at {file_path}. Please run `make run` first.\")\n",
    "        return pd.DataFrame()\n",
    "    return pd.read_json(file_path, lines=True)\n",
    "\n",
    "def prepare_dataframe(dfs: list[pd.DataFrame]) -> pd.DataFrame:\n",
    "    \"\"\"Concatenates, cleans, and sorts the DataFrames from all stages.\"\"\"\n",
    "    if not any(not df.empty for df in dfs):\n",
    "        return pd.DataFrame()\n",
    "    full = pd.concat(dfs, ignore_index=True)\n",
    "    full[\"speaker\"] = full[\"speaker\"].fillna(\"<none>\")\n",
    "    full[\"score\"] = full[\"score\"].fillna(SCORE_NULL_PLACEHOLDER)\n",
    "    return full.sort_values([\"stage\", \"speaker\", \"score\"], ascending=[True, True, False])"
   ]
  },
  {
   "cell_type": "markdown",
   "id": "6a1cc582",
   "metadata": {},
   "source": [
    "## 3. Data Loading & Preparation\n",
    "\n",
    "Load data from all four stages into a single pandas DataFrame."
   ]
  },
  {
   "cell_type": "code",
   "execution_count": 4,
   "id": "2ba1d0fb",
   "metadata": {},
   "outputs": [
    {
     "name": "stdout",
     "output_type": "stream",
     "text": [
      "Combined DataFrame shape: (83, 7)\n"
     ]
    },
    {
     "data": {
      "text/html": [
       "<div>\n",
       "<style scoped>\n",
       "    .dataframe tbody tr th:only-of-type {\n",
       "        vertical-align: middle;\n",
       "    }\n",
       "\n",
       "    .dataframe tbody tr th {\n",
       "        vertical-align: top;\n",
       "    }\n",
       "\n",
       "    .dataframe thead th {\n",
       "        text-align: right;\n",
       "    }\n",
       "</style>\n",
       "<table border=\"1\" class=\"dataframe\">\n",
       "  <thead>\n",
       "    <tr style=\"text-align: right;\">\n",
       "      <th></th>\n",
       "      <th>doc_id</th>\n",
       "      <th>stage</th>\n",
       "      <th>text</th>\n",
       "      <th>context</th>\n",
       "      <th>speaker</th>\n",
       "      <th>score</th>\n",
       "      <th>urls</th>\n",
       "    </tr>\n",
       "  </thead>\n",
       "  <tbody>\n",
       "    <tr>\n",
       "      <th>0</th>\n",
       "      <td>mock</td>\n",
       "      <td>0</td>\n",
       "      <td>Case 1:19-cv-02184-TJK Document 5-9 Filed 07/2...</td>\n",
       "      <td>NaN</td>\n",
       "      <td>&lt;none&gt;</td>\n",
       "      <td>-1.0</td>\n",
       "      <td>[]</td>\n",
       "    </tr>\n",
       "    <tr>\n",
       "      <th>1</th>\n",
       "      <td>mock</td>\n",
       "      <td>1</td>\n",
       "      <td>2.</td>\n",
       "      <td>Introduction\\n\\n    1. This complaint concerns...</td>\n",
       "      <td>&lt;none&gt;</td>\n",
       "      <td>0.0</td>\n",
       "      <td>[]</td>\n",
       "    </tr>\n",
       "    <tr>\n",
       "      <th>2</th>\n",
       "      <td>mock</td>\n",
       "      <td>1</td>\n",
       "      <td>3.</td>\n",
       "      <td>As set forth in detail below, WhatsApp plans t...</td>\n",
       "      <td>&lt;none&gt;</td>\n",
       "      <td>0.0</td>\n",
       "      <td>[]</td>\n",
       "    </tr>\n",
       "    <tr>\n",
       "      <th>3</th>\n",
       "      <td>mock</td>\n",
       "      <td>1</td>\n",
       "      <td>The proposed change in business practices will...</td>\n",
       "      <td>WhatsApp plans to require users to opt out of ...</td>\n",
       "      <td>&lt;none&gt;</td>\n",
       "      <td>0.0</td>\n",
       "      <td>[]</td>\n",
       "    </tr>\n",
       "    <tr>\n",
       "      <th>4</th>\n",
       "      <td>mock</td>\n",
       "      <td>1</td>\n",
       "      <td>The Center for Digital Democracy (“CDD”) is a ...</td>\n",
       "      <td>Dir. Marc Rotenberg to FTC Comm’r Christine\\nV...</td>\n",
       "      <td>&lt;none&gt;</td>\n",
       "      <td>0.0</td>\n",
       "      <td>[http://epic.org/privacy/internet/ftc/ftc_lett...</td>\n",
       "    </tr>\n",
       "    <tr>\n",
       "      <th>5</th>\n",
       "      <td>mock</td>\n",
       "      <td>1</td>\n",
       "      <td>On August 25, 2016, WhatsApp posted an entry t...</td>\n",
       "      <td>Facebook, Inc. is an American company incorpor...</td>\n",
       "      <td>&lt;none&gt;</td>\n",
       "      <td>0.0</td>\n",
       "      <td>[http://www.mobilemarketer.com/cms/news/legal-...</td>\n",
       "    </tr>\n",
       "    <tr>\n",
       "      <th>6</th>\n",
       "      <td>mock</td>\n",
       "      <td>1</td>\n",
       "      <td>According to WhatsApp, the company “plan[s] to...</td>\n",
       "      <td>17\\n   WhatsApp Blog, Looking Ahead for WhatsA...</td>\n",
       "      <td>&lt;none&gt;</td>\n",
       "      <td>0.0</td>\n",
       "      <td>[https://blog.whatsapp.com/10000627/Looking-ah...</td>\n",
       "    </tr>\n",
       "    <tr>\n",
       "      <th>7</th>\n",
       "      <td>mock</td>\n",
       "      <td>1</td>\n",
       "      <td>According to WhatsApp, the company plans to tr...</td>\n",
       "      <td>EPIC – CDD Complaint                          ...</td>\n",
       "      <td>&lt;none&gt;</td>\n",
       "      <td>0.0</td>\n",
       "      <td>[]</td>\n",
       "    </tr>\n",
       "    <tr>\n",
       "      <th>8</th>\n",
       "      <td>mock</td>\n",
       "      <td>1</td>\n",
       "      <td>According to\\n         the company, “[t]hat’s ...</td>\n",
       "      <td>WhatsApp users provide their mobile phone numb...</td>\n",
       "      <td>&lt;none&gt;</td>\n",
       "      <td>0.0</td>\n",
       "      <td>[https://www.whatsapp.com/faq/general/28030012.]</td>\n",
       "    </tr>\n",
       "    <tr>\n",
       "      <th>9</th>\n",
       "      <td>mock</td>\n",
       "      <td>1</td>\n",
       "      <td>According to WhatsApp, WhatsApp and Facebook i...</td>\n",
       "      <td>According to\\n         the company, “[t]hat’s ...</td>\n",
       "      <td>&lt;none&gt;</td>\n",
       "      <td>0.0</td>\n",
       "      <td>[https://www.whatsapp.com/faq/general/28030012...</td>\n",
       "    </tr>\n",
       "  </tbody>\n",
       "</table>\n",
       "</div>"
      ],
      "text/plain": [
       "  doc_id  stage                                               text  \\\n",
       "0   mock      0  Case 1:19-cv-02184-TJK Document 5-9 Filed 07/2...   \n",
       "1   mock      1                                                 2.   \n",
       "2   mock      1                                                 3.   \n",
       "3   mock      1  The proposed change in business practices will...   \n",
       "4   mock      1  The Center for Digital Democracy (“CDD”) is a ...   \n",
       "5   mock      1  On August 25, 2016, WhatsApp posted an entry t...   \n",
       "6   mock      1  According to WhatsApp, the company “plan[s] to...   \n",
       "7   mock      1  According to WhatsApp, the company plans to tr...   \n",
       "8   mock      1  According to\\n         the company, “[t]hat’s ...   \n",
       "9   mock      1  According to WhatsApp, WhatsApp and Facebook i...   \n",
       "\n",
       "                                             context speaker  score  \\\n",
       "0                                                NaN  <none>   -1.0   \n",
       "1  Introduction\\n\\n    1. This complaint concerns...  <none>    0.0   \n",
       "2  As set forth in detail below, WhatsApp plans t...  <none>    0.0   \n",
       "3  WhatsApp plans to require users to opt out of ...  <none>    0.0   \n",
       "4  Dir. Marc Rotenberg to FTC Comm’r Christine\\nV...  <none>    0.0   \n",
       "5  Facebook, Inc. is an American company incorpor...  <none>    0.0   \n",
       "6  17\\n   WhatsApp Blog, Looking Ahead for WhatsA...  <none>    0.0   \n",
       "7  EPIC – CDD Complaint                          ...  <none>    0.0   \n",
       "8  WhatsApp users provide their mobile phone numb...  <none>    0.0   \n",
       "9  According to\\n         the company, “[t]hat’s ...  <none>    0.0   \n",
       "\n",
       "                                                urls  \n",
       "0                                                 []  \n",
       "1                                                 []  \n",
       "2                                                 []  \n",
       "3                                                 []  \n",
       "4  [http://epic.org/privacy/internet/ftc/ftc_lett...  \n",
       "5  [http://www.mobilemarketer.com/cms/news/legal-...  \n",
       "6  [https://blog.whatsapp.com/10000627/Looking-ah...  \n",
       "7                                                 []  \n",
       "8   [https://www.whatsapp.com/faq/general/28030012.]  \n",
       "9  [https://www.whatsapp.com/faq/general/28030012...  "
      ]
     },
     "metadata": {},
     "output_type": "display_data"
    }
   ],
   "source": [
    "dfs = [load_stage(s) for s in FILES]\n",
    "full_df = prepare_dataframe(dfs)\n",
    "\n",
    "if not full_df.empty:\n",
    "    print(\"Combined DataFrame shape:\", full_df.shape)\n",
    "    display(full_df.head(10))\n",
    "else:\n",
    "    print(\"DataFrame is empty. Please run `make run` first to generate the data.\")"
   ]
  },
  {
   "cell_type": "markdown",
   "id": "fbff0e4f",
   "metadata": {},
   "source": [
    "## 4. Stage-By-Stage Inspection\n",
    "\n",
    "Let's examine the output of each pipeline stage. We'll print a formatted summary of the quotes found at each step."
   ]
  },
  {
   "cell_type": "code",
   "execution_count": 5,
   "id": "5ff2c40d",
   "metadata": {},
   "outputs": [
    {
     "name": "stdout",
     "output_type": "stream",
     "text": [
      "\n",
      "\n",
      "========== Stage 0 ==========\n",
      "\n",
      "-- Speaker: '<none>' (1 rows) --\n",
      "  • [---] Case 1:19-cv-02184-TJK Document 5-9 Filed 07/26/19 Page 1 of 28                     Exhibit 8 \f",
      "     Case 1:19-cv-0218...\n",
      "\n",
      "\n",
      "========== Stage 1 ==========\n",
      "\n",
      "-- Speaker: '<none>' (54 rows) --\n",
      "  • [0.00] 2.\n",
      "  • [0.00] As described above, WhatsApp will not obtain affirmative express consent from           its users to use and disclose...\n",
      "  • [0.00] In light of these promises, the FTC explains that “any use of WhatsApp’s            subscriber information that viola...\n",
      "  • [0.00] The FTC directs WhatsApp and Facebook that “if [they] choose to use data            collected by WhatsApp in a manner...\n",
      "  • [0.00] On March 25, 2015, the FTC posted a blog entry on “Mergers and Privacy          Promises” that discussed the implicat...\n",
      "\n",
      "\n",
      "========== Stage 2 ==========\n",
      "\n",
      "-- Speaker: '07/26/19' (2 rows) --\n",
      "  • [0.00] \"The contents of messages that have been delivered by the WhatsApp Service are not copied, kept or archived by WhatsA...\n",
      "  • [0.00] \"The contents of messages that have been delivered by the WhatsApp Service are not copied, kept or archived by WhatsA...\n",
      "\n",
      "-- Speaker: 'FTC' (1 rows) --\n",
      "  • [0.00] “any use of WhatsApp’s            subscriber information that violates these privacy promises, by either WhatsApp    ...\n",
      "\n",
      "-- Speaker: 'Facebook spokesperson' (3 rows) --\n",
      "  • [0.00] \"We are absolutely not going to change plans around WhatsApp and the way it uses user data.\"\n",
      "  • [0.00] \"We are absolutely not going to change plans around WhatsApp and the way it uses user data.\"\n",
      "  • [0.00] \"We are absolutely not going to change plans around WhatsApp and the way it uses user data.\"\n",
      "\n",
      "-- Speaker: 'Indian Express' (1 rows) --\n",
      "  • [0.00] “mark a significant          departure from how WhatsApp has been viewed, an app that was          strictly about no ...\n",
      "\n",
      "-- Speaker: 'Page' (1 rows) --\n",
      "  • [0.00] \"The contents of messages that have been delivered by the WhatsApp Service are not copied, kept or archived by WhatsA...\n",
      "\n",
      "-- Speaker: 'Wired' (1 rows) --\n",
      "  • [0.00] “Another aspect of the privacy rollback likely to rankle          users is that not only will the phone number and an...\n",
      "\n",
      "-- Speaker: 'privacy policy' (2 rows) --\n",
      "  • [0.00] “have agreed to use the WhatsApp            service, and to have WhatsApp collect and transmit their information, wit...\n",
      "  • [0.00] “have agreed to use the WhatsApp            service, and to have WhatsApp collect and transmit their information, wit...\n",
      "\n",
      "-- Speaker: 'reporter' (1 rows) --\n",
      "  • [0.00] “What’s that? That’s just the          sound of Facebook Inc tearing up the privacy agreement of          WhatsApp’s ...\n",
      "\n",
      "-- Speaker: 'things' (2 rows) --\n",
      "  • [0.00] ' personal information and requires Facebook and its subsidiaries to obtain consumers '\n",
      "  • [0.00] ' personal information and requires Facebook and its subsidiaries to obtain consumers '\n",
      "\n",
      "\n",
      "========== Stage 3 ==========\n",
      "\n",
      "-- Speaker: '07/26/19' (2 rows) --\n",
      "  • [0.13] \"The contents of messages that have been delivered by the WhatsApp Service are not copied, kept or archived by WhatsA...\n",
      "  • [0.13] \"The contents of messages that have been delivered by the WhatsApp Service are not copied, kept or archived by WhatsA...\n",
      "\n",
      "-- Speaker: 'FTC' (1 rows) --\n",
      "  • [0.40] “any use of WhatsApp’s            subscriber information that violates these privacy promises, by either WhatsApp    ...\n",
      "\n",
      "-- Speaker: 'Facebook spokesperson' (3 rows) --\n",
      "  • [0.40] \"We are absolutely not going to change plans around WhatsApp and the way it uses user data.\"\n",
      "  • [0.40] \"We are absolutely not going to change plans around WhatsApp and the way it uses user data.\"\n",
      "  • [0.40] \"We are absolutely not going to change plans around WhatsApp and the way it uses user data.\"\n",
      "\n",
      "-- Speaker: 'Indian Express' (1 rows) --\n",
      "  • [0.38] “mark a significant          departure from how WhatsApp has been viewed, an app that was          strictly about no ...\n",
      "\n",
      "-- Speaker: 'Page' (1 rows) --\n",
      "  • [0.13] \"The contents of messages that have been delivered by the WhatsApp Service are not copied, kept or archived by WhatsA...\n",
      "\n",
      "-- Speaker: 'Wired' (1 rows) --\n",
      "  • [0.27] “Another aspect of the privacy rollback likely to rankle          users is that not only will the phone number and an...\n",
      "\n",
      "-- Speaker: 'privacy policy' (2 rows) --\n",
      "  • [0.32] “have agreed to use the WhatsApp            service, and to have WhatsApp collect and transmit their information, wit...\n",
      "  • [0.32] “have agreed to use the WhatsApp            service, and to have WhatsApp collect and transmit their information, wit...\n",
      "\n",
      "-- Speaker: 'reporter' (1 rows) --\n",
      "  • [0.40] “What’s that? That’s just the          sound of Facebook Inc tearing up the privacy agreement of          WhatsApp’s ...\n",
      "\n",
      "-- Speaker: 'things' (2 rows) --\n",
      "  • [0.48] ' personal information and requires Facebook and its subsidiaries to obtain consumers '\n",
      "  • [0.48] ' personal information and requires Facebook and its subsidiaries to obtain consumers '\n"
     ]
    }
   ],
   "source": [
    "def print_stage_overview(df):\n",
    "    \"\"\"Iterates through the dataframe and prints a formatted summary.\"\"\"\n",
    "    if df.empty:\n",
    "        print(\"No data to display.\")\n",
    "        return\n",
    "    \n",
    "    for stage, stage_df in df.groupby(\"stage\"):\n",
    "        print(f\"\\n\\n{'='*10} Stage {stage} {'='*10}\")\n",
    "        for speaker, grp in stage_df.groupby(\"speaker\"):\n",
    "            print(f\"\\n-- Speaker: {speaker!r} ({len(grp)} rows) --\")\n",
    "            # Sort by score for display purposes and show top 5\n",
    "            for _, row in grp.sort_values('score', ascending=False).head(5).iterrows():\n",
    "                score_str = f\"[{row.score:.2f}]\" if row.score >= 0 else \"[---]\"\n",
    "                # For raw text, show a snippet\n",
    "                display_text = str(row.text).replace('\\n', ' ')\n",
    "                if len(display_text) > 120:\n",
    "                    display_text = display_text[:117] + '...'\n",
    "                print(f\"  • {score_str} {display_text}\")\n",
    "\n",
    "print_stage_overview(full_df)"
   ]
  },
  {
   "cell_type": "markdown",
   "id": "165bd21e",
   "metadata": {},
   "source": [
    "## 5. Cross-Stage Comparison & Visualizations\n",
    "\n",
    "Now let's visualize the filtering process across stages."
   ]
  },
  {
   "cell_type": "markdown",
   "id": "3d177397",
   "metadata": {},
   "source": [
    "### 5.1 Quote Survival Rate by Stage"
   ]
  },
  {
   "cell_type": "code",
   "execution_count": 6,
   "id": "ccf2b289",
   "metadata": {},
   "outputs": [
    {
     "data": {
      "image/png": "[encoded data removed]",
      "text/plain": [
       "<Figure size 1000x600 with 1 Axes>"
      ]
     },
     "metadata": {},
     "output_type": "display_data"
    }
   ],
   "source": [
    "if not full_df.empty:\n",
    "    stage_counts = full_df.groupby('stage')['doc_id'].nunique()\n",
    "    stage_counts.index = ['0: Raw Docs', '1: Candidates', '2: Attributed', '3: Final']\n",
    "    \n",
    "    plt.figure(figsize=(10, 6))\n",
    "    ax = sns.barplot(x=stage_counts.index, y=stage_counts.values)\n",
    "    ax.set_title('Number of Items Passing Each Stage')\n",
    "    ax.set_ylabel('Count (Log Scale)')\n",
    "    ax.set_yscale('log')\n",
    "    ax.bar_label(ax.containers[0])\n",
    "    plt.show()\n",
    "else:\n",
    "    print(\"No data to plot.\")"
   ]
  },
  {
   "cell_type": "markdown",
   "id": "8169ec0b",
   "metadata": {},
   "source": [
    "### 5.2 Speaker Distribution in Final Stage"
   ]
  },
  {
   "cell_type": "code",
   "execution_count": 7,
   "id": "cacb006e",
   "metadata": {},
   "outputs": [
    {
     "data": {
      "image/png": "[encoded data removed]",
      "text/plain": [
       "<Figure size 1200x800 with 1 Axes>"
      ]
     },
     "metadata": {},
     "output_type": "display_data"
    }
   ],
   "source": [
    "if not full_df.empty:\n",
    "    final_df = full_df[full_df.stage == 3]\n",
    "    if not final_df.empty:\n",
    "        plt.figure(figsize=(12, 8))\n",
    "        top_speakers = final_df['speaker'].value_counts().nlargest(20).index\n",
    "        speaker_df = final_df[final_df['speaker'].isin(top_speakers)]\n",
    "        ax = sns.countplot(y=speaker_df['speaker'], order=top_speakers, hue=speaker_df['speaker'], legend=False)\n",
    "        ax.set_title('Stage 3: Final Quote Count per Speaker (Top 20)')\n",
    "        ax.set_xlabel('Number of Quotes')\n",
    "        ax.set_ylabel('Speaker')\n",
    "        plt.tight_layout()\n",
    "        plt.show()\n",
    "    else:\n",
    "        print(\"No quotes survived to the final stage.\")\n",
    "else:\n",
    "    print(\"No data to plot.\")"
   ]
  },
  {
   "cell_type": "markdown",
   "id": "6394f60f",
   "metadata": {},
   "source": [
    "### 5.3 Score Distribution in Final Stage"
   ]
  },
  {
   "cell_type": "code",
   "execution_count": 8,
   "id": "24a795f5",
   "metadata": {},
   "outputs": [
    {
     "data": {
      "image/png": "[encoded data removed]",
      "text/plain": [
       "<Figure size 1000x600 with 1 Axes>"
      ]
     },
     "metadata": {},
     "output_type": "display_data"
    }
   ],
   "source": [
    "if not full_df.empty:\n",
    "    final_df_with_scores = full_df[(full_df.stage == 3) & (full_df.score >= 0)]\n",
    "    if not final_df_with_scores.empty:\n",
    "        plt.figure(figsize=(10, 6))\n",
    "        ax = sns.histplot(final_df_with_scores['score'], bins=20, kde=True)\n",
    "        ax.set_title('Stage 3: Distribution of Semantic Scores for Final Quotes')\n",
    "        ax.set_xlabel('Similarity Score')\n",
    "        ax.set_ylabel('Frequency')\n",
    "        plt.show()\n",
    "    else:\n",
    "        print(\"No scored quotes in the final stage to plot.\")\n",
    "else:\n",
    "    print(\"No data to plot.\")"
   ]
  },
  {
   "cell_type": "markdown",
   "id": "369d599f",
   "metadata": {},
   "source": [
    "## 6. Conclusion\n",
    "\n",
    "This notebook provides a detailed, stage-by-stage analysis of the quote extraction pipeline. The visualizations highlight the filtering effectiveness at each step, from raw text to final, semantically-scored quotes."
   ]
  }
 ],
 "metadata": {
  "kernelspec": {
   "display_name": "Python 3 (ipykernel)",
   "language": "python",
   "name": "python3"
  },
  "language_info": {
   "codemirror_mode": {
    "name": "ipython",
    "version": 3
   },
   "file_extension": ".py",
   "mimetype": "text/x-python",
   "name": "python",
   "nbconvert_exporter": "python",
   "pygments_lexer": "ipython3",
   "version": "3.11.6"
  }
 },
 "nbformat": 4,
 "nbformat_minor": 5
}
