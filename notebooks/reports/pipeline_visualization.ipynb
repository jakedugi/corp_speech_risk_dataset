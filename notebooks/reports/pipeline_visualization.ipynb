{
 "cells": [
  {
   "cell_type": "markdown",
   "id": "1cd0ac3f",
   "metadata": {},
   "source": [
    "# Quote Extraction Pipeline Visualization\n",
    "\n",
    "This notebook loads the JSONL outputs from each stage of the quote extraction pipeline, combines them into a single DataFrame, and provides visualizations to analyze the process."
   ]
  },
  {
   "cell_type": "code",
   "execution_count": 1,
   "id": "83c9930c",
   "metadata": {},
   "outputs": [
    {
     "name": "stdout",
     "output_type": "stream",
     "text": [
      "pandas version: 2.3.0\n",
      "matplotlib version: 3.10.3\n"
     ]
    }
   ],
   "source": [
    "import os\n",
    "import sys\n",
    "import pandas as pd\n",
    "import matplotlib\n",
    "import matplotlib.pyplot as plt\n",
    "import seaborn as sns\n",
    "\n",
    "# Add project root to sys.path to allow for local module imports\n",
    "project_root = os.path.abspath(os.path.join(os.getcwd(), '..', '..'))\n",
    "if project_root not in sys.path:\n",
    "    sys.path.insert(0, project_root)\n",
    "\n",
    "print(f\"pandas version: {pd.__version__}\")\n",
    "print(f\"matplotlib version: {matplotlib.__version__}\")\n",
    "\n",
    "sns.set_theme(style=\"whitegrid\")"
   ]
  },
  {
   "cell_type": "markdown",
   "id": "4de0df07",
   "metadata": {},
   "source": [
    "## 1. Configuration & Parameters\n",
    "\n",
    "Define paths to the data files and set visualization parameters."
   ]
  },
  {
   "cell_type": "code",
   "execution_count": 2,
   "id": "3a83eed8",
   "metadata": {},
   "outputs": [],
   "source": [
    "from pathlib import Path\n",
    "\n",
    "# The `run_extraction.py` script saves the data in a `data` directory at the project root.\n",
    "DATA_DIR = Path(\"../../data\")\n",
    "FILES = {\n",
    "    0: DATA_DIR / \"stage0_raw.jsonl\",\n",
    "    1: DATA_DIR / \"stage1_cleaner.jsonl\",\n",
    "    2: DATA_DIR / \"stage2_extractor.jsonl\",\n",
    "    3: DATA_DIR / \"stage3_attributor.jsonl\",\n",
    "    4: DATA_DIR / \"stage4_reranker.jsonl\"\n",
    "}\n",
    "\n",
    "# Visualization settings\n",
    "SCORE_NULL_PLACEHOLDER = -1.0"
   ]
  },
  {
   "cell_type": "markdown",
   "id": "6f83542b",
   "metadata": {},
   "source": [
    "## 2. Utility Functions\n",
    "\n",
    "Helper functions to load and prepare the data for analysis."
   ]
  },
  {
   "cell_type": "code",
   "execution_count": 3,
   "id": "b92ba510",
   "metadata": {},
   "outputs": [],
   "source": [
    "def load_stage(stage: int) -> pd.DataFrame:\n",
    "    \"\"\"Loads a single stage's JSONL file into a DataFrame.\"\"\"\n",
    "    file_path = FILES[stage]\n",
    "    if not file_path.exists():\n",
    "        print(f\"Warning: File not found for stage {stage} at {file_path}. Please run `make run` first.\")\n",
    "        return pd.DataFrame()\n",
    "    return pd.read_json(file_path, lines=True)\n",
    "\n",
    "def prepare_dataframe(dfs: list[pd.DataFrame]) -> pd.DataFrame:\n",
    "    \"\"\"Concatenates, cleans, and sorts the DataFrames from all stages.\"\"\"\n",
    "    if not any(not df.empty for df in dfs):\n",
    "        return pd.DataFrame()\n",
    "    full = pd.concat(dfs, ignore_index=True)\n",
    "    full[\"speaker\"] = full[\"speaker\"].fillna(\"<none>\")\n",
    "    full[\"score\"] = full[\"score\"].fillna(SCORE_NULL_PLACEHOLDER)\n",
    "    return full.sort_values([\"stage\", \"speaker\", \"score\"], ascending=[True, True, False])"
   ]
  },
  {
   "cell_type": "markdown",
   "id": "86232c4b",
   "metadata": {},
   "source": [
    "## 3. Data Loading & Preparation\n",
    "\n",
    "Load data from all four stages into a single pandas DataFrame."
   ]
  },
  {
   "cell_type": "code",
   "execution_count": 4,
   "id": "cc2c04e1",
   "metadata": {},
   "outputs": [
    {
     "name": "stdout",
     "output_type": "stream",
     "text": [
      "Combined DataFrame shape: (151, 7)\n"
     ]
    },
    {
     "data": {
      "text/html": [
       "<div>\n",
       "<style scoped>\n",
       "    .dataframe tbody tr th:only-of-type {\n",
       "        vertical-align: middle;\n",
       "    }\n",
       "\n",
       "    .dataframe tbody tr th {\n",
       "        vertical-align: top;\n",
       "    }\n",
       "\n",
       "    .dataframe thead th {\n",
       "        text-align: right;\n",
       "    }\n",
       "</style>\n",
       "<table border=\"1\" class=\"dataframe\">\n",
       "  <thead>\n",
       "    <tr style=\"text-align: right;\">\n",
       "      <th></th>\n",
       "      <th>doc_id</th>\n",
       "      <th>stage</th>\n",
       "      <th>text</th>\n",
       "      <th>context</th>\n",
       "      <th>speaker</th>\n",
       "      <th>score</th>\n",
       "      <th>urls</th>\n",
       "    </tr>\n",
       "  </thead>\n",
       "  <tbody>\n",
       "    <tr>\n",
       "      <th>0</th>\n",
       "      <td>mock</td>\n",
       "      <td>0</td>\n",
       "      <td>Case 1:19-cv-02184-TJK Document 5-9 Filed 07/2...</td>\n",
       "      <td>NaN</td>\n",
       "      <td>&lt;none&gt;</td>\n",
       "      <td>-1.0</td>\n",
       "      <td>[]</td>\n",
       "    </tr>\n",
       "    <tr>\n",
       "      <th>1</th>\n",
       "      <td>mock</td>\n",
       "      <td>1</td>\n",
       "      <td>Case 1:19-cv-02184-TJK Document 5-9 Filed 07/2...</td>\n",
       "      <td>NaN</td>\n",
       "      <td>&lt;none&gt;</td>\n",
       "      <td>-1.0</td>\n",
       "      <td>[]</td>\n",
       "    </tr>\n",
       "    <tr>\n",
       "      <th>2</th>\n",
       "      <td>mock</td>\n",
       "      <td>2</td>\n",
       "      <td>\"as part of [WhatsApp's] plans to test ways fo...</td>\n",
       "      <td>Marc Rotenberg to FTC Comm'r Christine\\nVarney...</td>\n",
       "      <td>&lt;none&gt;</td>\n",
       "      <td>0.0</td>\n",
       "      <td>[http://epic.org/privacy/internet/ftc/ftc_lett...</td>\n",
       "    </tr>\n",
       "    <tr>\n",
       "      <th>3</th>\n",
       "      <td>mock</td>\n",
       "      <td>2</td>\n",
       "      <td>\"plan[s] to share some information with\\nFaceb...</td>\n",
       "      <td>ftc.gov/en forcementlcasesproceedings/092-3184...</td>\n",
       "      <td>&lt;none&gt;</td>\n",
       "      <td>0.0</td>\n",
       "      <td>[https://www.epic.org/ftc/WhatsApp-Complaint.p...</td>\n",
       "    </tr>\n",
       "    <tr>\n",
       "      <th>4</th>\n",
       "      <td>mock</td>\n",
       "      <td>2</td>\n",
       "      <td>\"the phone number [users]\\nverified when [they...</td>\n",
       "      <td>ftc.gov/en forcementlcasesproceedings/092-3184...</td>\n",
       "      <td>&lt;none&gt;</td>\n",
       "      <td>0.0</td>\n",
       "      <td>[https://www.epic.org/ftc/WhatsApp-Complaint.p...</td>\n",
       "    </tr>\n",
       "    <tr>\n",
       "      <th>5</th>\n",
       "      <td>mock</td>\n",
       "      <td>2</td>\n",
       "      <td>\"[t]hat's nearly one in seven people on Earth ...</td>\n",
       "      <td>\\n6\\nKatherine C. Montgomery, Generation Digit...</td>\n",
       "      <td>&lt;none&gt;</td>\n",
       "      <td>0.0</td>\n",
       "      <td>[http://mitpress.mit.edu/books/generation-digi...</td>\n",
       "    </tr>\n",
       "    <tr>\n",
       "      <th>6</th>\n",
       "      <td>mock</td>\n",
       "      <td>2</td>\n",
       "      <td>\"friend suggestions and more relevant ads on F...</td>\n",
       "      <td>\\n\\nEPIC - CDD Complaint                      ...</td>\n",
       "      <td>&lt;none&gt;</td>\n",
       "      <td>0.0</td>\n",
       "      <td>[http://www.mobilemarketer.com/cms/news/legalp...</td>\n",
       "    </tr>\n",
       "    <tr>\n",
       "      <th>7</th>\n",
       "      <td>mock</td>\n",
       "      <td>2</td>\n",
       "      <td>\"WhatsApp Updated Privacy\\nPolicy\"</td>\n",
       "      <td>Facebook, Inc. is an American company incorpor...</td>\n",
       "      <td>&lt;none&gt;</td>\n",
       "      <td>0.0</td>\n",
       "      <td>[http://www.mobilemarketer.com/cms/news/legalp...</td>\n",
       "    </tr>\n",
       "    <tr>\n",
       "      <th>8</th>\n",
       "      <td>mock</td>\n",
       "      <td>2</td>\n",
       "      <td>\"personal information\"</td>\n",
       "      <td>\\n9\\nPress Release, Federal Trade Comm'n, FTC ...</td>\n",
       "      <td>&lt;none&gt;</td>\n",
       "      <td>0.0</td>\n",
       "      <td>[http://www.ftc.gov/news-events/press-releases...</td>\n",
       "    </tr>\n",
       "    <tr>\n",
       "      <th>9</th>\n",
       "      <td>mock</td>\n",
       "      <td>2</td>\n",
       "      <td>\"Facebook and the other companies in the Faceb...</td>\n",
       "      <td>\\n\\nEPIC - CDD Complaint                      ...</td>\n",
       "      <td>&lt;none&gt;</td>\n",
       "      <td>0.0</td>\n",
       "      <td>[https://www.whatsapp.com/faq/general/28030012...</td>\n",
       "    </tr>\n",
       "  </tbody>\n",
       "</table>\n",
       "</div>"
      ],
      "text/plain": [
       "  doc_id  stage                                               text  \\\n",
       "0   mock      0  Case 1:19-cv-02184-TJK Document 5-9 Filed 07/2...   \n",
       "1   mock      1  Case 1:19-cv-02184-TJK Document 5-9 Filed 07/2...   \n",
       "2   mock      2  \"as part of [WhatsApp's] plans to test ways fo...   \n",
       "3   mock      2  \"plan[s] to share some information with\\nFaceb...   \n",
       "4   mock      2  \"the phone number [users]\\nverified when [they...   \n",
       "5   mock      2  \"[t]hat's nearly one in seven people on Earth ...   \n",
       "6   mock      2  \"friend suggestions and more relevant ads on F...   \n",
       "7   mock      2                 \"WhatsApp Updated Privacy\\nPolicy\"   \n",
       "8   mock      2                             \"personal information\"   \n",
       "9   mock      2  \"Facebook and the other companies in the Faceb...   \n",
       "\n",
       "                                             context speaker  score  \\\n",
       "0                                                NaN  <none>   -1.0   \n",
       "1                                                NaN  <none>   -1.0   \n",
       "2  Marc Rotenberg to FTC Comm'r Christine\\nVarney...  <none>    0.0   \n",
       "3  ftc.gov/en forcementlcasesproceedings/092-3184...  <none>    0.0   \n",
       "4  ftc.gov/en forcementlcasesproceedings/092-3184...  <none>    0.0   \n",
       "5  \\n6\\nKatherine C. Montgomery, Generation Digit...  <none>    0.0   \n",
       "6  \\n\\nEPIC - CDD Complaint                      ...  <none>    0.0   \n",
       "7  Facebook, Inc. is an American company incorpor...  <none>    0.0   \n",
       "8  \\n9\\nPress Release, Federal Trade Comm'n, FTC ...  <none>    0.0   \n",
       "9  \\n\\nEPIC - CDD Complaint                      ...  <none>    0.0   \n",
       "\n",
       "                                                urls  \n",
       "0                                                 []  \n",
       "1                                                 []  \n",
       "2  [http://epic.org/privacy/internet/ftc/ftc_lett...  \n",
       "3  [https://www.epic.org/ftc/WhatsApp-Complaint.p...  \n",
       "4  [https://www.epic.org/ftc/WhatsApp-Complaint.p...  \n",
       "5  [http://mitpress.mit.edu/books/generation-digi...  \n",
       "6  [http://www.mobilemarketer.com/cms/news/legalp...  \n",
       "7  [http://www.mobilemarketer.com/cms/news/legalp...  \n",
       "8  [http://www.ftc.gov/news-events/press-releases...  \n",
       "9  [https://www.whatsapp.com/faq/general/28030012...  "
      ]
     },
     "metadata": {},
     "output_type": "display_data"
    }
   ],
   "source": [
    "dfs = [load_stage(s) for s in FILES]\n",
    "full_df = prepare_dataframe(dfs)\n",
    "\n",
    "if not full_df.empty:\n",
    "    print(\"Combined DataFrame shape:\", full_df.shape)\n",
    "    display(full_df.head(10))\n",
    "else:\n",
    "    print(\"DataFrame is empty. Please run `make run` first to generate the data.\")"
   ]
  },
  {
   "cell_type": "markdown",
   "id": "c70522db",
   "metadata": {},
   "source": [
    "## 4. Stage-By-Stage Inspection\n",
    "\n",
    "Let's examine the output of each pipeline stage. We'll print a formatted summary of the quotes found at each step."
   ]
  },
  {
   "cell_type": "code",
   "execution_count": 5,
   "id": "5b04af7b",
   "metadata": {},
   "outputs": [
    {
     "name": "stdout",
     "output_type": "stream",
     "text": [
      "\n",
      "\n",
      "========== Stage 0 ==========\n",
      "\n",
      "-- Speaker: '<none>' (1 rows) --\n",
      "  • [---] Case 1:19-cv-02184-TJK Document 5-9 Filed 07/26/19 Page 1 of 28                     Exhibit 8 \f",
      "     Case 1:19-cv-0218...\n",
      "\n",
      "\n",
      "========== Stage 1 ==========\n",
      "\n",
      "-- Speaker: '<none>' (1 rows) --\n",
      "  • [---] Case 1:19-cv-02184-TJK Document 5-9 Filed 07/26/19 Page 1 of 28  Exhibit 8       Case 1:19-cv-02184-TJK Document 5-9 ...\n",
      "\n",
      "\n",
      "========== Stage 2 ==========\n",
      "\n",
      "-- Speaker: '<none>' (83 rows) --\n",
      "  • [0.00] \"as part of [WhatsApp's] plans to test ways for people to communicate with businesses in the months ahead. \"\n",
      "  • [0.00] \"70  51. The Commission has previously found that retroactive application of materially changed privacy policies to p...\n",
      "  • [0.00] \"The test is whether the consumer's interpretation or  customer phone records without the consumers' authorization ca...\n",
      "  • [0.00] \"68 Sellers may not withhold from consumers important price or performance information, engage in coercion, or unduly...\n",
      "  • [0.00] \"67 This factor is an effort to ensure that consumer decision making still governs the market by limiting the FTC to ...\n",
      "\n",
      "\n",
      "========== Stage 3 ==========\n",
      "\n",
      "-- Speaker: '07/26/19' (5 rows) --\n",
      "  • [0.00] \"The contents of messages that have been delivered by the WhatsApp Service are not copied, kept or archived by WhatsA...\n",
      "  • [0.00] \"The contents of messages that have been delivered by the WhatsApp Service are not copied, kept or archived by WhatsA...\n",
      "  • [0.00] \"The contents of messages that have been delivered by the WhatsApp Service are not copied, kept or archived by WhatsA...\n",
      "  • [0.00] \"The contents of messages that have been delivered by the WhatsApp Service are not copied, kept or archived by WhatsA...\n",
      "  • [0.00] \"The contents of messages that have been delivered by the WhatsApp Service are not copied, kept or archived by WhatsA...\n",
      "\n",
      "-- Speaker: 'Facebook' (8 rows) --\n",
      "  • [0.00] \"Option 1\"\n",
      "  • [0.00] \"50 The letter further states, \"\n",
      "  • [0.00] \"50 The letter further states, \"\n",
      "  • [0.00] \"50 The letter further states, \"\n",
      "  • [0.00] \"50 The letter further states, \"\n",
      "\n",
      "-- Speaker: 'Facebook.2' (6 rows) --\n",
      "  • [0.00] ' mobile address book or contact lists other than mobile phone numbers ....\"\n",
      "  • [0.00] ' mobile address book or contact lists other than mobile phone numbers ....\"\n",
      "  • [0.00] ' mobile address book or contact lists other than mobile phone numbers ....\"\n",
      "  • [0.00] ' mobile address book or contact lists other than mobile phone numbers ....\"\n",
      "  • [0.00] ' mobile address book or contact lists other than mobile phone numbers ....\"\n",
      "\n",
      "-- Speaker: 'Indian Express' (1 rows) --\n",
      "  • [0.00] \"mark a significant departure from how WhatsApp has been viewed, an app that was strictly about no ads. \"\n",
      "\n",
      "-- Speaker: 'Rimma Katz' (1 rows) --\n",
      "  • [0.00] \"as part of [WhatsApp's] plans to test ways for people to communicate with businesses in the months ahead. \"\n",
      "\n",
      "-- Speaker: 'WhatsApp users' (2 rows) --\n",
      "  • [0.00] ' understanding of their exposure to online advertising and constitutes an unfair and deceptive trade practice, subje...\n",
      "  • [0.00] ' understanding of their exposure to online advertising and constitutes an unfair and deceptive trade practice, subje...\n",
      "\n",
      "-- Speaker: 'Wired' (5 rows) --\n",
      "  • [0.00] \"Another aspect of the privacy rollback likely to rankle users is that not only will the phone number and analytics s...\n",
      "  • [0.00] \"Another aspect of the privacy rollback likely to rankle users is that not only will the phone number and analytics s...\n",
      "  • [0.00] \"Another aspect of the privacy rollback likely to rankle users is that not only will the phone number and analytics s...\n",
      "  • [0.00] \"Another aspect of the privacy rollback likely to rankle users is that not only will the phone number and analytics s...\n",
      "  • [0.00] \"Another aspect of the privacy rollback likely to rankle users is that not only will the phone number and analytics s...\n",
      "\n",
      "-- Speaker: 'privacy policy' (5 rows) --\n",
      "  • [0.00] \"We do not use your mobile phone number or other Personally Identifiable Information to send commercial or marketing ...\n",
      "  • [0.00] \"We do not use your mobile phone number or other Personally Identifiable Information to send commercial or marketing ...\n",
      "  • [0.00] \"We do not use your mobile phone number or other Personally Identifiable Information to send commercial or marketing ...\n",
      "  • [0.00] \"We do not use your mobile phone number or other Personally Identifiable Information to send commercial or marketing ...\n",
      "  • [0.00] \"We do not use your mobile phone number or other Personally Identifiable Information to send commercial or marketing ...\n",
      "\n",
      "\n",
      "========== Stage 4 ==========\n",
      "\n",
      "-- Speaker: '07/26/19' (5 rows) --\n",
      "  • [0.13] \"The contents of messages that have been delivered by the WhatsApp Service are not copied, kept or archived by WhatsA...\n",
      "  • [0.13] \"The contents of messages that have been delivered by the WhatsApp Service are not copied, kept or archived by WhatsA...\n",
      "  • [0.13] \"The contents of messages that have been delivered by the WhatsApp Service are not copied, kept or archived by WhatsA...\n",
      "  • [0.13] \"The contents of messages that have been delivered by the WhatsApp Service are not copied, kept or archived by WhatsA...\n",
      "  • [0.13] \"The contents of messages that have been delivered by the WhatsApp Service are not copied, kept or archived by WhatsA...\n",
      "\n",
      "-- Speaker: 'Facebook' (8 rows) --\n",
      "  • [0.14] \"Option 1\"\n",
      "  • [0.07] \"50 The letter further states, \"\n",
      "  • [0.07] \"50 The letter further states, \"\n",
      "  • [0.07] \"50 The letter further states, \"\n",
      "  • [0.07] \"50 The letter further states, \"\n",
      "\n",
      "-- Speaker: 'Facebook.2' (6 rows) --\n",
      "  • [0.35] ' mobile address book or contact lists other than mobile phone numbers ....\"\n",
      "  • [0.35] ' mobile address book or contact lists other than mobile phone numbers ....\"\n",
      "  • [0.35] ' mobile address book or contact lists other than mobile phone numbers ....\"\n",
      "  • [0.35] ' mobile address book or contact lists other than mobile phone numbers ....\"\n",
      "  • [0.35] ' mobile address book or contact lists other than mobile phone numbers ....\"\n",
      "\n",
      "-- Speaker: 'Indian Express' (1 rows) --\n",
      "  • [0.44] \"mark a significant departure from how WhatsApp has been viewed, an app that was strictly about no ads. \"\n",
      "\n",
      "-- Speaker: 'Rimma Katz' (1 rows) --\n",
      "  • [0.27] \"as part of [WhatsApp's] plans to test ways for people to communicate with businesses in the months ahead. \"\n",
      "\n",
      "-- Speaker: 'WhatsApp users' (2 rows) --\n",
      "  • [0.43] ' understanding of their exposure to online advertising and constitutes an unfair and deceptive trade practice, subje...\n",
      "  • [0.43] ' understanding of their exposure to online advertising and constitutes an unfair and deceptive trade practice, subje...\n",
      "\n",
      "-- Speaker: 'Wired' (5 rows) --\n",
      "  • [0.28] \"Another aspect of the privacy rollback likely to rankle users is that not only will the phone number and analytics s...\n",
      "  • [0.28] \"Another aspect of the privacy rollback likely to rankle users is that not only will the phone number and analytics s...\n",
      "  • [0.28] \"Another aspect of the privacy rollback likely to rankle users is that not only will the phone number and analytics s...\n",
      "  • [0.28] \"Another aspect of the privacy rollback likely to rankle users is that not only will the phone number and analytics s...\n",
      "  • [0.28] \"Another aspect of the privacy rollback likely to rankle users is that not only will the phone number and analytics s...\n",
      "\n",
      "-- Speaker: 'privacy policy' (5 rows) --\n",
      "  • [0.43] \"We do not use your mobile phone number or other Personally Identifiable Information to send commercial or marketing ...\n",
      "  • [0.43] \"We do not use your mobile phone number or other Personally Identifiable Information to send commercial or marketing ...\n",
      "  • [0.43] \"We do not use your mobile phone number or other Personally Identifiable Information to send commercial or marketing ...\n",
      "  • [0.43] \"We do not use your mobile phone number or other Personally Identifiable Information to send commercial or marketing ...\n",
      "  • [0.43] \"We do not use your mobile phone number or other Personally Identifiable Information to send commercial or marketing ...\n"
     ]
    }
   ],
   "source": [
    "def print_stage_overview(df):\n",
    "    \"\"\"Iterates through the dataframe and prints a formatted summary.\"\"\"\n",
    "    if df.empty:\n",
    "        print(\"No data to display.\")\n",
    "        return\n",
    "    \n",
    "    for stage, stage_df in df.groupby(\"stage\"):\n",
    "        print(f\"\\n\\n{'='*10} Stage {stage} {'='*10}\")\n",
    "        for speaker, grp in stage_df.groupby(\"speaker\"):\n",
    "            print(f\"\\n-- Speaker: {speaker!r} ({len(grp)} rows) --\")\n",
    "            # Sort by score for display purposes and show top 5\n",
    "            for _, row in grp.sort_values('score', ascending=False).head(5).iterrows():\n",
    "                score_str = f\"[{row.score:.2f}]\" if row.score >= 0 else \"[---]\"\n",
    "                # For raw text, show a snippet\n",
    "                display_text = str(row.text).replace('\\n', ' ')\n",
    "                if len(display_text) > 120:\n",
    "                    display_text = display_text[:117] + '...'\n",
    "                print(f\"  • {score_str} {display_text}\")\n",
    "\n",
    "print_stage_overview(full_df)"
   ]
  },
  {
   "cell_type": "markdown",
   "id": "030d8f91",
   "metadata": {},
   "source": [
    "## 5. Cross-Stage Comparison & Visualizations\n",
    "\n",
    "Now let's visualize the filtering process across stages."
   ]
  },
  {
   "cell_type": "markdown",
   "id": "b1ae3671",
   "metadata": {},
   "source": [
    "### 5.1 Quote Survival Rate by Stage"
   ]
  },
  {
   "cell_type": "code",
   "execution_count": 6,
   "id": "d8cede1e",
   "metadata": {},
   "outputs": [
    {
     "data": {
      "image/png": "[encoded data removed]",
      "text/plain": [
       "<Figure size 1000x600 with 1 Axes>"
      ]
     },
     "metadata": {},
     "output_type": "display_data"
    }
   ],
   "source": [
    "if not full_df.empty:\n",
    "    stage_counts = full_df.groupby('stage')['doc_id'].nunique()\n",
    "    stage_labels = {0: 'stage0_raw', 1: 'stage1_cleaner', 2: 'stage2_extractor', 3: 'stage3_attributor', 4: 'stage4_reranker'}\n",
    "    labels = [stage_labels.get(s, str(s)) for s in stage_counts.index]\n",
    "    plt.figure(figsize=(10, 6))\n",
    "    ax = sns.barplot(x=labels, y=stage_counts.values)\n",
    "    ax.set_title('Number of Items Passing Each Stage')\n",
    "    ax.set_ylabel('Count (Log Scale)')\n",
    "    ax.set_yscale('log')\n",
    "    ax.bar_label(ax.containers[0])\n",
    "    plt.show()\n",
    "else:\n",
    "    print(\"No data to plot.\")"
   ]
  },
  {
   "cell_type": "markdown",
   "id": "bbbf79cb",
   "metadata": {},
   "source": [
    "### 5.2 Speaker Distribution in Final Stage"
   ]
  },
  {
   "cell_type": "code",
   "execution_count": 7,
   "id": "a65aac26",
   "metadata": {},
   "outputs": [
    {
     "data": {
      "image/png": "[encoded data removed]",
      "text/plain": [
       "<Figure size 1200x800 with 1 Axes>"
      ]
     },
     "metadata": {},
     "output_type": "display_data"
    }
   ],
   "source": [
    "if not full_df.empty:\n",
    "    final_df = full_df[full_df.stage == 4]\n",
    "    if not final_df.empty:\n",
    "        plt.figure(figsize=(12, 8))\n",
    "        top_speakers = final_df['speaker'].value_counts().nlargest(20).index\n",
    "        speaker_df = final_df[final_df['speaker'].isin(top_speakers)]\n",
    "        ax = sns.countplot(y=speaker_df['speaker'], order=top_speakers, hue=speaker_df['speaker'], legend=False)\n",
    "        ax.set_title('stage4_reranker: Final Quote Count per Speaker (Top 20)')\n",
    "        ax.set_xlabel('Number of Quotes')\n",
    "        ax.set_ylabel('Speaker')\n",
    "        plt.tight_layout()\n",
    "        plt.show()\n",
    "    else:\n",
    "        print(\"No quotes survived to the final stage.\")\n",
    "else:\n",
    "    print(\"No data to plot.\")"
   ]
  },
  {
   "cell_type": "markdown",
   "id": "6ae80fe1",
   "metadata": {},
   "source": [
    "### 5.3 Score Distribution in Final Stage"
   ]
  },
  {
   "cell_type": "code",
   "execution_count": 8,
   "id": "dd7e4210",
   "metadata": {},
   "outputs": [
    {
     "data": {
      "image/png": "[encoded data removed]",
      "text/plain": [
       "<Figure size 1000x600 with 1 Axes>"
      ]
     },
     "metadata": {},
     "output_type": "display_data"
    }
   ],
   "source": [
    "if not full_df.empty:\n",
    "    final_df_with_scores = full_df[(full_df.stage == 4) & (full_df.score >= 0)]\n",
    "    if not final_df_with_scores.empty:\n",
    "        plt.figure(figsize=(10, 6))\n",
    "        ax = sns.histplot(final_df_with_scores['score'], bins=20, kde=True)\n",
    "        ax.set_title('stage4_reranker: Distribution of Semantic Scores for Final Quotes')\n",
    "        ax.set_xlabel('Similarity Score')\n",
    "        ax.set_ylabel('Frequency')\n",
    "        plt.show()\n",
    "    else:\n",
    "        print(\"No scored quotes in the final stage to plot.\")\n",
    "else:\n",
    "    print(\"No data to plot.\")"
   ]
  },
  {
   "cell_type": "markdown",
   "id": "5bd69f0e",
   "metadata": {},
   "source": [
    "## 6. Conclusion\n",
    "\n",
    "This notebook provides a detailed, stage-by-stage analysis of the quote extraction pipeline. The visualizations highlight the filtering effectiveness at each step, from raw text to final, semantically-scored quotes."
   ]
  }
 ],
 "metadata": {
  "kernelspec": {
   "display_name": "Python 3 (ipykernel)",
   "language": "python",
   "name": "python3"
  },
  "language_info": {
   "codemirror_mode": {
    "name": "ipython",
    "version": 3
   },
   "file_extension": ".py",
   "mimetype": "text/x-python",
   "name": "python",
   "nbconvert_exporter": "python",
   "pygments_lexer": "ipython3",
   "version": "3.11.6"
  }
 },
 "nbformat": 4,
 "nbformat_minor": 5
}
