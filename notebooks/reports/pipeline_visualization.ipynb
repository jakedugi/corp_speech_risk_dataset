{
 "cells": [
  {
   "cell_type": "markdown",
   "id": "9fbe2af6",
   "metadata": {},
   "source": [
    "# Quote Extraction Pipeline Visualization\n",
    "\n",
    "This notebook loads the JSONL outputs from each stage of the quote extraction pipeline, combines them into a single DataFrame, and provides visualizations to analyze the process."
   ]
  },
  {
   "cell_type": "code",
   "execution_count": 1,
   "id": "2ca4cd30",
   "metadata": {},
   "outputs": [
    {
     "name": "stdout",
     "output_type": "stream",
     "text": [
      "pandas version: 2.3.0\n",
      "matplotlib version: 3.10.3\n"
     ]
    }
   ],
   "source": [
    "import os\n",
    "import sys\n",
    "import pandas as pd\n",
    "import matplotlib\n",
    "import matplotlib.pyplot as plt\n",
    "import seaborn as sns\n",
    "\n",
    "# Add project root to sys.path to allow for local module imports\n",
    "project_root = os.path.abspath(os.path.join(os.getcwd(), '..', '..'))\n",
    "if project_root not in sys.path:\n",
    "    sys.path.insert(0, project_root)\n",
    "\n",
    "print(f\"pandas version: {pd.__version__}\")\n",
    "print(f\"matplotlib version: {matplotlib.__version__}\")\n",
    "\n",
    "sns.set_theme(style=\"whitegrid\")"
   ]
  },
  {
   "cell_type": "markdown",
   "id": "12568305",
   "metadata": {},
   "source": [
    "## 1. Configuration & Parameters\n",
    "\n",
    "Define paths to the data files and set visualization parameters."
   ]
  },
  {
   "cell_type": "code",
   "execution_count": 2,
   "id": "5cbb846a",
   "metadata": {},
   "outputs": [],
   "source": [
    "from pathlib import Path\n",
    "\n",
    "# The `run_extraction.py` script saves the data in a `data` directory at the project root.\n",
    "DATA_DIR = Path(\"../../data\")\n",
    "FILES = {\n",
    "    0: DATA_DIR / \"stage0_raw.jsonl\",\n",
    "    1: DATA_DIR / \"stage1_cleaner.jsonl\",\n",
    "    2: DATA_DIR / \"stage2_extractor.jsonl\",\n",
    "    3: DATA_DIR / \"stage3_attributor.jsonl\",\n",
    "    4: DATA_DIR / \"stage4_reranker.jsonl\"\n",
    "}\n",
    "\n",
    "# Visualization settings\n",
    "SCORE_NULL_PLACEHOLDER = -1.0"
   ]
  },
  {
   "cell_type": "markdown",
   "id": "42005eb4",
   "metadata": {},
   "source": [
    "## 2. Utility Functions\n",
    "\n",
    "Helper functions to load and prepare the data for analysis."
   ]
  },
  {
   "cell_type": "code",
   "execution_count": 3,
   "id": "ee0045e7",
   "metadata": {},
   "outputs": [],
   "source": [
    "def load_stage(stage: int) -> pd.DataFrame:\n",
    "    \"\"\"Loads a single stage's JSONL file into a DataFrame.\"\"\"\n",
    "    file_path = FILES[stage]\n",
    "    if not file_path.exists():\n",
    "        print(f\"Warning: File not found for stage {stage} at {file_path}. Please run `make run` first.\")\n",
    "        return pd.DataFrame()\n",
    "    return pd.read_json(file_path, lines=True)\n",
    "\n",
    "def prepare_dataframe(dfs: list[pd.DataFrame]) -> pd.DataFrame:\n",
    "    \"\"\"Concatenates, cleans, and sorts the DataFrames from all stages.\"\"\"\n",
    "    if not any(not df.empty for df in dfs):\n",
    "        return pd.DataFrame()\n",
    "    full = pd.concat(dfs, ignore_index=True)\n",
    "    full[\"speaker\"] = full[\"speaker\"].fillna(\"<none>\")\n",
    "    full[\"score\"] = full[\"score\"].fillna(SCORE_NULL_PLACEHOLDER)\n",
    "    return full.sort_values([\"stage\", \"speaker\", \"score\"], ascending=[True, True, False])"
   ]
  },
  {
   "cell_type": "markdown",
   "id": "b2b26edd",
   "metadata": {},
   "source": [
    "## 3. Data Loading & Preparation\n",
    "\n",
    "Load data from all four stages into a single pandas DataFrame."
   ]
  },
  {
   "cell_type": "code",
   "execution_count": 4,
   "id": "2a0902d8",
   "metadata": {},
   "outputs": [
    {
     "name": "stdout",
     "output_type": "stream",
     "text": [
      "Combined DataFrame shape: (140, 7)\n"
     ]
    },
    {
     "data": {
      "text/html": [
       "<div>\n",
       "<style scoped>\n",
       "    .dataframe tbody tr th:only-of-type {\n",
       "        vertical-align: middle;\n",
       "    }\n",
       "\n",
       "    .dataframe tbody tr th {\n",
       "        vertical-align: top;\n",
       "    }\n",
       "\n",
       "    .dataframe thead th {\n",
       "        text-align: right;\n",
       "    }\n",
       "</style>\n",
       "<table border=\"1\" class=\"dataframe\">\n",
       "  <thead>\n",
       "    <tr style=\"text-align: right;\">\n",
       "      <th></th>\n",
       "      <th>doc_id</th>\n",
       "      <th>stage</th>\n",
       "      <th>text</th>\n",
       "      <th>context</th>\n",
       "      <th>speaker</th>\n",
       "      <th>score</th>\n",
       "      <th>urls</th>\n",
       "    </tr>\n",
       "  </thead>\n",
       "  <tbody>\n",
       "    <tr>\n",
       "      <th>0</th>\n",
       "      <td>mock</td>\n",
       "      <td>0</td>\n",
       "      <td>Case 1:19-cv-02184-TJK Document 5-9 Filed 07/2...</td>\n",
       "      <td>NaN</td>\n",
       "      <td>&lt;none&gt;</td>\n",
       "      <td>-1.0</td>\n",
       "      <td>[]</td>\n",
       "    </tr>\n",
       "    <tr>\n",
       "      <th>1</th>\n",
       "      <td>mock</td>\n",
       "      <td>1</td>\n",
       "      <td>Case 1:19-cv-02184-TJK Document 5-9 Filed 07/2...</td>\n",
       "      <td>NaN</td>\n",
       "      <td>&lt;none&gt;</td>\n",
       "      <td>-1.0</td>\n",
       "      <td>[]</td>\n",
       "    </tr>\n",
       "    <tr>\n",
       "      <th>2</th>\n",
       "      <td>mock</td>\n",
       "      <td>2</td>\n",
       "      <td>as part of [WhatsApp's] plans to test ways for...</td>\n",
       "      <td>8. On August 25, 2016, WhatsApp posted an entr...</td>\n",
       "      <td>&lt;none&gt;</td>\n",
       "      <td>0.0</td>\n",
       "      <td>[]</td>\n",
       "    </tr>\n",
       "    <tr>\n",
       "      <th>3</th>\n",
       "      <td>mock</td>\n",
       "      <td>2</td>\n",
       "      <td>plan[s] to share some information with Faceboo...</td>\n",
       "      <td>9. According to WhatsApp, the company \"plan[s]...</td>\n",
       "      <td>&lt;none&gt;</td>\n",
       "      <td>0.0</td>\n",
       "      <td>[]</td>\n",
       "    </tr>\n",
       "    <tr>\n",
       "      <th>4</th>\n",
       "      <td>mock</td>\n",
       "      <td>2</td>\n",
       "      <td>the phone number [users] verified when [they] ...</td>\n",
       "      <td>10. According to WhatsApp, the company plans t...</td>\n",
       "      <td>&lt;none&gt;</td>\n",
       "      <td>0.0</td>\n",
       "      <td>[]</td>\n",
       "    </tr>\n",
       "    <tr>\n",
       "      <th>5</th>\n",
       "      <td>mock</td>\n",
       "      <td>2</td>\n",
       "      <td>[t]hat's nearly one in seven people on Earth w...</td>\n",
       "      <td>12. As of February 1, 2016, WhatsApp has one b...</td>\n",
       "      <td>&lt;none&gt;</td>\n",
       "      <td>0.0</td>\n",
       "      <td>[]</td>\n",
       "    </tr>\n",
       "    <tr>\n",
       "      <th>6</th>\n",
       "      <td>mock</td>\n",
       "      <td>2</td>\n",
       "      <td>friend suggestions and more relevant ads on Fa...</td>\n",
       "      <td>14. According to WhatsApp, WhatsApp and Facebo...</td>\n",
       "      <td>&lt;none&gt;</td>\n",
       "      <td>0.0</td>\n",
       "      <td>[]</td>\n",
       "    </tr>\n",
       "    <tr>\n",
       "      <th>7</th>\n",
       "      <td>mock</td>\n",
       "      <td>2</td>\n",
       "      <td>WhatsApp Updated Privacy Policy</td>\n",
       "      <td>WhatsApp, Privacy Policy (last modified Aug. 2...</td>\n",
       "      <td>&lt;none&gt;</td>\n",
       "      <td>0.0</td>\n",
       "      <td>[https://www.whatsapp.com/legal/?l=en#privacy-...</td>\n",
       "    </tr>\n",
       "    <tr>\n",
       "      <th>8</th>\n",
       "      <td>mock</td>\n",
       "      <td>2</td>\n",
       "      <td>personal information</td>\n",
       "      <td>See, e.g., NIST, Guide to Protecting the Confi...</td>\n",
       "      <td>&lt;none&gt;</td>\n",
       "      <td>0.0</td>\n",
       "      <td>[http://www.nist.gov/customcf/get_pdf.cfm?pub_...</td>\n",
       "    </tr>\n",
       "    <tr>\n",
       "      <th>9</th>\n",
       "      <td>mock</td>\n",
       "      <td>2</td>\n",
       "      <td>Facebook and the other companies in the Facebo...</td>\n",
       "      <td>16. According to WhatsApp, \"Facebook and the o...</td>\n",
       "      <td>&lt;none&gt;</td>\n",
       "      <td>0.0</td>\n",
       "      <td>[]</td>\n",
       "    </tr>\n",
       "  </tbody>\n",
       "</table>\n",
       "</div>"
      ],
      "text/plain": [
       "  doc_id  stage                                               text  \\\n",
       "0   mock      0  Case 1:19-cv-02184-TJK Document 5-9 Filed 07/2...   \n",
       "1   mock      1  Case 1:19-cv-02184-TJK Document 5-9 Filed 07/2...   \n",
       "2   mock      2  as part of [WhatsApp's] plans to test ways for...   \n",
       "3   mock      2  plan[s] to share some information with Faceboo...   \n",
       "4   mock      2  the phone number [users] verified when [they] ...   \n",
       "5   mock      2  [t]hat's nearly one in seven people on Earth w...   \n",
       "6   mock      2  friend suggestions and more relevant ads on Fa...   \n",
       "7   mock      2                    WhatsApp Updated Privacy Policy   \n",
       "8   mock      2                               personal information   \n",
       "9   mock      2  Facebook and the other companies in the Facebo...   \n",
       "\n",
       "                                             context speaker  score  \\\n",
       "0                                                NaN  <none>   -1.0   \n",
       "1                                                NaN  <none>   -1.0   \n",
       "2  8. On August 25, 2016, WhatsApp posted an entr...  <none>    0.0   \n",
       "3  9. According to WhatsApp, the company \"plan[s]...  <none>    0.0   \n",
       "4  10. According to WhatsApp, the company plans t...  <none>    0.0   \n",
       "5  12. As of February 1, 2016, WhatsApp has one b...  <none>    0.0   \n",
       "6  14. According to WhatsApp, WhatsApp and Facebo...  <none>    0.0   \n",
       "7  WhatsApp, Privacy Policy (last modified Aug. 2...  <none>    0.0   \n",
       "8  See, e.g., NIST, Guide to Protecting the Confi...  <none>    0.0   \n",
       "9  16. According to WhatsApp, \"Facebook and the o...  <none>    0.0   \n",
       "\n",
       "                                                urls  \n",
       "0                                                 []  \n",
       "1                                                 []  \n",
       "2                                                 []  \n",
       "3                                                 []  \n",
       "4                                                 []  \n",
       "5                                                 []  \n",
       "6                                                 []  \n",
       "7  [https://www.whatsapp.com/legal/?l=en#privacy-...  \n",
       "8  [http://www.nist.gov/customcf/get_pdf.cfm?pub_...  \n",
       "9                                                 []  "
      ]
     },
     "metadata": {},
     "output_type": "display_data"
    }
   ],
   "source": [
    "dfs = [load_stage(s) for s in FILES]\n",
    "full_df = prepare_dataframe(dfs)\n",
    "\n",
    "if not full_df.empty:\n",
    "    print(\"Combined DataFrame shape:\", full_df.shape)\n",
    "    display(full_df.head(10))\n",
    "else:\n",
    "    print(\"DataFrame is empty. Please run `make run` first to generate the data.\")"
   ]
  },
  {
   "cell_type": "markdown",
   "id": "8c062415",
   "metadata": {},
   "source": [
    "## 4. Stage-By-Stage Inspection\n",
    "\n",
    "Let's examine the output of each pipeline stage. We'll print a formatted summary of the quotes found at each step."
   ]
  },
  {
   "cell_type": "code",
   "execution_count": 5,
   "id": "a4fafc92",
   "metadata": {},
   "outputs": [
    {
     "name": "stdout",
     "output_type": "stream",
     "text": [
      "\n",
      "\n",
      "========== Stage 0 ==========\n",
      "\n",
      "-- Speaker: '<none>' (1 rows) --\n",
      "  • [---] Case 1:19-cv-02184-TJK Document 5-9 Filed 07/26/19 Page 1 of 28                     Exhibit 8 \f",
      "     Case 1:19-cv-0218...\n",
      "\n",
      "\n",
      "========== Stage 1 ==========\n",
      "\n",
      "-- Speaker: '<none>' (1 rows) --\n",
      "  • [---] Case 1:19-cv-02184-TJK Document 5-9 Filed 07/26/19 Page 1 of 28  Exhibit 8  Case 1:19-cv-02184-TJK Document 5-9 Filed...\n",
      "\n",
      "\n",
      "========== Stage 2 ==========\n",
      "\n",
      "-- Speaker: '<none>' (46 rows) --\n",
      "  • [0.00] as part of [WhatsApp's] plans to test ways for people to communicate with businesses in the months ahead.\n",
      "  • [0.00] the injury must be one which consumers could not reasonably have avoided.\n",
      "  • [0.00] any use of WhatsApp's subscriber information that violates these privacy promises, by either WhatsApp or Facebook, co...\n",
      "  • [0.00] if [they] choose to use data collected by WhatsApp in a manner that is materially inconsistent with the promises What...\n",
      "  • [0.00] Mergers and Privacy Promises\n",
      "\n",
      "\n",
      "========== Stage 3 ==========\n",
      "\n",
      "-- Speaker: 'Facebook' (2 rows) --\n",
      "  • [0.00] WhatsApp's privacy policy clearly states, among other things, that users' information will not be used for advertisin...\n",
      "  • [0.00] Facebook has recently promised consumers that it would not change the way WhatsApp uses customer information.\n",
      "\n",
      "-- Speaker: 'Facebook spokesperson' (2 rows) --\n",
      "  • [0.00] We are absolutely not going to change plans around WhatsApp and the way it uses user data.\n",
      "  • [0.00] As we have said repeatedly, WhatsAfp will operate as a separate company and will honor its commitments to privacy and...\n",
      "\n",
      "-- Speaker: 'It' (9 rows) --\n",
      "  • [0.00] plan[s] to share some information with Facebook and the Facebook family of companies that will allow [WhatsApp] to co...\n",
      "  • [0.00] the phone number [users] verified when [they] registered with WhatsApp\n",
      "  • [0.00] personal information\n",
      "  • [0.00] uncheck the box or toggle the control\n",
      "  • [0.00] uncheck[ing] the box or toggl[ing] the control\n",
      "\n",
      "-- Speaker: 'L' (5 rows) --\n",
      "  • [0.00] WhatsApp Updated Privacy Policy\n",
      "  • [0.00] Mergers and Privacy Promises\n",
      "  • [0.00] unwarranted health and safety risks.\n",
      "  • [0.00] Mark Zuckerberg: WhatsApp worth even more than $19 billion,\n",
      "  • [0.00] Privacy Groups Urge FTC to probe Facebook's deal to buy WhatsApp,\n",
      "\n",
      "-- Speaker: 'Unknown' (26 rows) --\n",
      "  • [0.00] as part of [WhatsApp's] plans to test ways for people to communicate with businesses in the months ahead.\n",
      "  • [0.00] [t]hat's nearly one in seven people on Earth who use WhatsApp each month.\n",
      "  • [0.00] express affirmative consent.\n",
      "  • [0.00] the seller knew, or should have known, that an ordinary consumer would need omitted information to evaluate the produ...\n",
      "  • [0.00] health, safety, or other areas with which the reasonable consumer would be concerned.\n",
      "\n",
      "-- Speaker: 'it' (1 rows) --\n",
      "  • [0.00] Similarly, it states that\n",
      "\n",
      "-- Speaker: 'order' (1 rows) --\n",
      "  • [0.00] We want to make clear that, regardless of the acquisition, WhatsApp must continue to honor these promises to consumer...\n",
      "\n",
      "\n",
      "========== Stage 4 ==========\n",
      "\n",
      "-- Speaker: 'Facebook' (2 rows) --\n",
      "  • [0.44] Facebook has recently promised consumers that it would not change the way WhatsApp uses customer information.\n",
      "  • [0.44] WhatsApp's privacy policy clearly states, among other things, that users' information will not be used for advertisin...\n",
      "\n",
      "-- Speaker: 'Facebook spokesperson' (2 rows) --\n",
      "  • [0.36] As we have said repeatedly, WhatsAfp will operate as a separate company and will honor its commitments to privacy and...\n",
      "  • [0.36] We are absolutely not going to change plans around WhatsApp and the way it uses user data.\n",
      "\n",
      "-- Speaker: 'It' (9 rows) --\n",
      "  • [0.51] if [they] choose to use data collected by WhatsApp in a manner that is materially inconsistent with the promises What...\n",
      "  • [0.49] personal information\n",
      "  • [0.28] plan[s] to share some information with Facebook and the Facebook family of companies that will allow [WhatsApp] to co...\n",
      "  • [0.23] unreasonably creates or takes advantage of an obstacle to the free exercise of consumer decisionmaking.\n",
      "  • [0.21] the phone number [users] verified when [they] registered with WhatsApp\n",
      "\n",
      "-- Speaker: 'L' (5 rows) --\n",
      "  • [0.39] Mergers and Privacy Promises\n",
      "  • [0.35] WhatsApp Updated Privacy Policy\n",
      "  • [0.28] Privacy Groups Urge FTC to probe Facebook's deal to buy WhatsApp,\n",
      "  • [0.17] Mark Zuckerberg: WhatsApp worth even more than $19 billion,\n",
      "  • [0.14] unwarranted health and safety risks.\n",
      "\n",
      "-- Speaker: 'Unknown' (26 rows) --\n",
      "  • [0.71] We do not use your mobile phone number or other Personally Identifiable Information to send commercial or marketing m...\n",
      "  • [0.55] the FTC has made clear that, absent affirmative express consent by a consumer, a company cannot use data in a manner ...\n",
      "  • [0.46] The statements in WhatsApp's privacy policy, combined with the recent public statements by both Facebook and WhatsApp...\n",
      "  • [0.43] Facebook and the other companies in the Facebook family also may use information from us to improve your experiences ...\n",
      "  • [0.41] have agreed to use the WhatsApp service, and to have WhatsApp collect and transmit their information, with the unders...\n",
      "\n",
      "-- Speaker: 'it' (1 rows) --\n",
      "  • [0.21] Similarly, it states that\n",
      "\n",
      "-- Speaker: 'order' (1 rows) --\n",
      "  • [0.25] We want to make clear that, regardless of the acquisition, WhatsApp must continue to honor these promises to consumer...\n"
     ]
    }
   ],
   "source": [
    "def print_stage_overview(df):\n",
    "    \"\"\"Iterates through the dataframe and prints a formatted summary.\"\"\"\n",
    "    if df.empty:\n",
    "        print(\"No data to display.\")\n",
    "        return\n",
    "    \n",
    "    for stage, stage_df in df.groupby(\"stage\"):\n",
    "        print(f\"\\n\\n{'='*10} Stage {stage} {'='*10}\")\n",
    "        for speaker, grp in stage_df.groupby(\"speaker\"):\n",
    "            print(f\"\\n-- Speaker: {speaker!r} ({len(grp)} rows) --\")\n",
    "            # Sort by score for display purposes and show top 5\n",
    "            for _, row in grp.sort_values('score', ascending=False).head(5).iterrows():\n",
    "                score_str = f\"[{row.score:.2f}]\" if row.score >= 0 else \"[---]\"\n",
    "                # For raw text, show a snippet\n",
    "                display_text = str(row.text).replace('\\n', ' ')\n",
    "                if len(display_text) > 120:\n",
    "                    display_text = display_text[:117] + '...'\n",
    "                print(f\"  • {score_str} {display_text}\")\n",
    "\n",
    "print_stage_overview(full_df)"
   ]
  },
  {
   "cell_type": "markdown",
   "id": "668aa507",
   "metadata": {},
   "source": [
    "## 5. Cross-Stage Comparison & Visualizations\n",
    "\n",
    "Now let's visualize the filtering process across stages."
   ]
  },
  {
   "cell_type": "markdown",
   "id": "2fd552b3",
   "metadata": {},
   "source": [
    "### 5.1 Quote Survival Rate by Stage"
   ]
  },
  {
   "cell_type": "code",
   "execution_count": 6,
   "id": "3d112ef0",
   "metadata": {},
   "outputs": [
    {
     "data": {
      "image/png": "[encoded data removed]",
      "text/plain": [
       "<Figure size 1000x600 with 1 Axes>"
      ]
     },
     "metadata": {},
     "output_type": "display_data"
    }
   ],
   "source": [
    "if not full_df.empty:\n",
    "    stage_counts = full_df.groupby('stage')['doc_id'].nunique()\n",
    "    stage_labels = {0: 'stage0_raw', 1: 'stage1_cleaner', 2: 'stage2_extractor', 3: 'stage3_attributor', 4: 'stage4_reranker'}\n",
    "    labels = [stage_labels.get(s, str(s)) for s in stage_counts.index]\n",
    "    plt.figure(figsize=(10, 6))\n",
    "    ax = sns.barplot(x=labels, y=stage_counts.values)\n",
    "    ax.set_title('Number of Items Passing Each Stage')\n",
    "    ax.set_ylabel('Count (Log Scale)')\n",
    "    ax.set_yscale('log')\n",
    "    ax.bar_label(ax.containers[0])\n",
    "    plt.show()\n",
    "else:\n",
    "    print(\"No data to plot.\")"
   ]
  },
  {
   "cell_type": "markdown",
   "id": "a1120153",
   "metadata": {},
   "source": [
    "### 5.2 Speaker Distribution in Final Stage"
   ]
  },
  {
   "cell_type": "code",
   "execution_count": 7,
   "id": "66959108",
   "metadata": {},
   "outputs": [
    {
     "data": {
      "image/png": "[encoded data removed]",
      "text/plain": [
       "<Figure size 1200x800 with 1 Axes>"
      ]
     },
     "metadata": {},
     "output_type": "display_data"
    }
   ],
   "source": [
    "if not full_df.empty:\n",
    "    final_df = full_df[full_df.stage == 4]\n",
    "    if not final_df.empty:\n",
    "        plt.figure(figsize=(12, 8))\n",
    "        top_speakers = final_df['speaker'].value_counts().nlargest(20).index\n",
    "        speaker_df = final_df[final_df['speaker'].isin(top_speakers)]\n",
    "        ax = sns.countplot(y=speaker_df['speaker'], order=top_speakers, hue=speaker_df['speaker'], legend=False)\n",
    "        ax.set_title('stage4_reranker: Final Quote Count per Speaker (Top 20)')\n",
    "        ax.set_xlabel('Number of Quotes')\n",
    "        ax.set_ylabel('Speaker')\n",
    "        plt.tight_layout()\n",
    "        plt.show()\n",
    "    else:\n",
    "        print(\"No quotes survived to the final stage.\")\n",
    "else:\n",
    "    print(\"No data to plot.\")"
   ]
  },
  {
   "cell_type": "markdown",
   "id": "c77a0296",
   "metadata": {},
   "source": [
    "### 5.3 Score Distribution in Final Stage"
   ]
  },
  {
   "cell_type": "code",
   "execution_count": 8,
   "id": "4aac205b",
   "metadata": {},
   "outputs": [
    {
     "data": {
      "image/png": "[encoded data removed]",
      "text/plain": [
       "<Figure size 1000x600 with 1 Axes>"
      ]
     },
     "metadata": {},
     "output_type": "display_data"
    }
   ],
   "source": [
    "if not full_df.empty:\n",
    "    final_df_with_scores = full_df[(full_df.stage == 4) & (full_df.score >= 0)]\n",
    "    if not final_df_with_scores.empty:\n",
    "        plt.figure(figsize=(10, 6))\n",
    "        ax = sns.histplot(final_df_with_scores['score'], bins=20, kde=True)\n",
    "        ax.set_title('stage4_reranker: Distribution of Semantic Scores for Final Quotes')\n",
    "        ax.set_xlabel('Similarity Score')\n",
    "        ax.set_ylabel('Frequency')\n",
    "        plt.show()\n",
    "    else:\n",
    "        print(\"No scored quotes in the final stage to plot.\")\n",
    "else:\n",
    "    print(\"No data to plot.\")"
   ]
  },
  {
   "cell_type": "markdown",
   "id": "6e00453a",
   "metadata": {},
   "source": [
    "## 6. Conclusion\n",
    "\n",
    "This notebook provides a detailed, stage-by-stage analysis of the quote extraction pipeline. The visualizations highlight the filtering effectiveness at each step, from raw text to final, semantically-scored quotes."
   ]
  }
 ],
 "metadata": {
  "kernelspec": {
   "display_name": "Python 3 (ipykernel)",
   "language": "python",
   "name": "python3"
  },
  "language_info": {
   "codemirror_mode": {
    "name": "ipython",
    "version": 3
   },
   "file_extension": ".py",
   "mimetype": "text/x-python",
   "name": "python",
   "nbconvert_exporter": "python",
   "pygments_lexer": "ipython3",
   "version": "3.11.12"
  }
 },
 "nbformat": 4,
 "nbformat_minor": 5
}
